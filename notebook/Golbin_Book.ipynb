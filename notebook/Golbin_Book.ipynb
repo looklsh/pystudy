{
 "cells": [
  {
   "cell_type": "code",
   "execution_count": 1,
   "metadata": {},
   "outputs": [],
   "source": [
    "# import tensorflow as tf\n",
    "# x = tf.placeholder(tf.float32, [None, 3])\n",
    "# print(x)"
   ]
  },
  {
   "cell_type": "code",
   "execution_count": 2,
   "metadata": {},
   "outputs": [],
   "source": [
    "# x_data = [[1, 2, 3], [4, 5, 6]]\n",
    "# print(x_data)"
   ]
  },
  {
   "cell_type": "code",
   "execution_count": 3,
   "metadata": {},
   "outputs": [],
   "source": [
    "# w = tf.Variable(tf.random_normal([3, 2]))\n",
    "# b = tf.Variable(tf.random_normal([2, 1]))\n",
    "# y = tf.matmul(x, w) + b"
   ]
  },
  {
   "cell_type": "code",
   "execution_count": 4,
   "metadata": {},
   "outputs": [],
   "source": [
    "# with tf.Session() as sess:\n",
    "#     sess.run(tf.global_variables_initializer())\n",
    "#     print(sess.run(w))\n",
    "#     print(sess.run(b))\n",
    "#     print(\"y:\", sess.run(y, feed_dict={x: x_data}))"
   ]
  },
  {
   "cell_type": "code",
   "execution_count": 5,
   "metadata": {},
   "outputs": [],
   "source": [
    "# x_data = [1, 2, 3]\n",
    "# y_data = [1, 2, 3]\n",
    "\n",
    "# W = tf.Variable(tf.random_uniform([1], -1.0, 1.0))\n",
    "# b = tf.Variable(tf.random_uniform([1], -1.0, 1.0))\n",
    "\n",
    "# X = tf.placeholder(tf.float32, name=\"X\")\n",
    "# Y = tf.placeholder(tf.float32, name=\"Y\")\n",
    "\n",
    "# hypo = W * X + b\n",
    "\n",
    "# cost = tf.reduce_mean(tf.square(hypo - Y))\n",
    "# optimizer = tf.train.GradientDescentOptimizer(learning_rate=0.1)\n",
    "# train_op = optimizer.minimize(cost)\n",
    "\n",
    "# with tf.Session() as sess:\n",
    "#     sess.run(tf.global_variables_initializer())\n",
    "    \n",
    "#     for step in range(30):\n",
    "#         _, cost_val = sess.run([train_op, cost], feed_dict={X:x_data, Y:y_data})\n",
    "#         print(\"STEP:{}, COST_VAL:{}, W:{}, b:{}\".format(step, cost_val, sess.run(W), sess.run(b)))\n",
    "# #         print(step, cost_val, sess.run(W), sess.run(b))\n",
    "        \n",
    "#     print(\"X:5, Y:\", sess.run(hypo, feed_dict={X:5}))\n",
    "#     print(\"X:3, Y:\", sess.run(hypo, feed_dict={X:3}))"
   ]
  },
  {
   "cell_type": "code",
   "execution_count": 6,
   "metadata": {},
   "outputs": [],
   "source": [
    "# import numpy as np\n",
    "# x_ = np.array([\n",
    "#     [0, 0], [1, 0], [1, 1], [0, 0], [0, 0], [0, 1]\n",
    "# ])\n",
    "# y_ = np.array([\n",
    "#     [1, 0, 0], [0, 1, 0], [0, 0, 1], [1, 0, 0], [1, 0, 0], [0, 0, 1]\n",
    "# ])\n",
    "\n",
    "# X = tf.placeholder(tf.float32)\n",
    "# Y = tf.placeholder(tf.float32)\n",
    "\n",
    "# W = tf.Variable(tf.random_uniform([2, 3], -1.0, 1.0))\n",
    "# b = tf.Variable(tf.zeros([3]))\n",
    "\n",
    "# L = tf.add(tf.matmul(X, W), b)\n",
    "# L = tf.nn.relu(L)\n",
    "\n",
    "# model = tf.nn.softmax(L)\n",
    "\n",
    "# cost = tf.reduce_mean(-tf.reduce_sum(Y * tf.log(model), axis=1))\n",
    "\n",
    "# optimizer = tf.train.GradientDescentOptimizer(learning_rate=0.1)\n",
    "# train_op = optimizer.minimize(cost)\n",
    "\n",
    "# init = tf.global_variables_initializer()\n",
    "# with tf.Session() as sess:\n",
    "#     sess.run(init)\n",
    "    \n",
    "#     for step in range(200):\n",
    "#         sess.run(train_op, feed_dict={X:x_, Y:y_})\n",
    "#         if (step + 1) % 10 == 0:\n",
    "#             print(step + 1, sess.run(cost, feed_dict={X:x_, Y:y_}))\n",
    "    \n",
    "#     prediction = tf.argmax(model, axis=1)\n",
    "#     target = tf.argmax(Y, axis=1)\n",
    "    \n",
    "#     print(\"예측값:\", sess.run(prediction, feed_dict={X:x_}))\n",
    "#     print(\"실제값:\", sess.run(target, feed_dict={Y:y_}))\n",
    "    \n",
    "#     is_correct = tf.equal(prediction, target)\n",
    "#     accuracy = tf.reduce_mean(tf.cast(is_correct, tf.float32))\n",
    "#     print(\"정확도: %2f\" % sess.run(accuracy * 100, feed_dict={X:x_, Y:y_}))"
   ]
  },
  {
   "cell_type": "code",
   "execution_count": 7,
   "metadata": {},
   "outputs": [
    {
     "name": "stdout",
     "output_type": "stream",
     "text": [
      "WARNING:tensorflow:From <ipython-input-7-afbac909caca>:32: checkpoint_exists (from tensorflow.python.training.checkpoint_management) is deprecated and will be removed in a future version.\n",
      "Instructions for updating:\n",
      "Use standard file APIs to check for files with this prefix.\n",
      "INFO:tensorflow:Restoring parameters from ./model\\dnn.ckpt-6\n",
      "Step: 7,  Cost: 0.686\n",
      "Step: 8,  Cost: 0.660\n",
      "예측값: [0 1 2 0 0 2]\n",
      "실제값: [0 1 2 0 0 2]\n",
      "정확도: 100.00\n"
     ]
    }
   ],
   "source": [
    "import tensorflow as tf\n",
    "import numpy as np\n",
    "\n",
    "data = np.loadtxt('./data/species.csv', delimiter=',', unpack=True, dtype='float32', encoding='utf-8-sig')\n",
    "\n",
    "x_data = np.transpose(data[0:2])\n",
    "y_data = np.transpose(data[2:])\n",
    "\n",
    "global_step = tf.Variable(0, trainable=False, name='global_step')\n",
    "\n",
    "X = tf.placeholder(tf.float32)\n",
    "Y = tf.placeholder(tf.float32)\n",
    "\n",
    "W1 = tf.Variable(tf.random_uniform([2, 10], -1.0, 1.0))\n",
    "L1 = tf.nn.relu(tf.matmul(X, W1))\n",
    "\n",
    "W2 = tf.Variable(tf.random_uniform([10, 20], -1.0, 1.0))\n",
    "L2 = tf.nn.relu(tf.matmul(L1, W2))\n",
    "\n",
    "W3 = tf.Variable(tf.random_uniform([20, 3], -1.0, 1.0))\n",
    "model = tf.matmul(L2, W3)\n",
    "\n",
    "cost = tf.reduce_mean(tf.nn.softmax_cross_entropy_with_logits_v2(labels=Y, logits=model))\n",
    "\n",
    "optimizer = tf.train.AdamOptimizer(learning_rate=0.01)\n",
    "train_op = optimizer.minimize(cost, global_step=global_step)\n",
    "\n",
    "sess = tf.Session()\n",
    "saver = tf.train.Saver(tf.global_variables())\n",
    "\n",
    "ckpt = tf.train.get_checkpoint_state('./model')\n",
    "if ckpt and tf.train.checkpoint_exists(ckpt.model_checkpoint_path):\n",
    "    saver.restore(sess, ckpt.model_checkpoint_path)\n",
    "else:\n",
    "    sess.run(tf.global_variables_initializer())\n",
    "    \n",
    "for step in range(2):\n",
    "    sess.run(train_op, feed_dict={X:x_data, Y:y_data})\n",
    "    \n",
    "    print('Step: %d, ' % sess.run(global_step), \n",
    "         'Cost: %.3f' % sess.run(cost, feed_dict={X:x_data, Y:y_data}))\n",
    "\n",
    "saver.save(sess, './model/dnn.ckpt', global_step=global_step)\n",
    "\n",
    "prediction = tf.argmax(model, 1)\n",
    "target = tf.argmax(Y, 1)\n",
    "print('예측값:', sess.run(prediction, feed_dict={X:x_data}))\n",
    "print('실제값:', sess.run(target, feed_dict={Y:y_data}))\n",
    "\n",
    "is_correct = tf.equal(prediction, target)\n",
    "accuracy = tf.reduce_mean(tf.cast(is_correct, tf.float32))\n",
    "print('정확도: %.2f' % sess.run(accuracy * 100, feed_dict={X:x_data, Y:y_data}))"
   ]
  },
  {
   "cell_type": "code",
   "execution_count": null,
   "metadata": {},
   "outputs": [],
   "source": []
  }
 ],
 "metadata": {
  "kernelspec": {
   "display_name": "Python 3",
   "language": "python",
   "name": "python3"
  },
  "language_info": {
   "codemirror_mode": {
    "name": "ipython",
    "version": 3
   },
   "file_extension": ".py",
   "mimetype": "text/x-python",
   "name": "python",
   "nbconvert_exporter": "python",
   "pygments_lexer": "ipython3",
   "version": "3.7.4"
  }
 },
 "nbformat": 4,
 "nbformat_minor": 2
}
