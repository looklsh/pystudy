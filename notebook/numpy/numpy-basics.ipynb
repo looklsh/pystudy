{
 "cells": [
  {
   "cell_type": "markdown",
   "metadata": {},
   "source": [
    "## Introducing Numpy\n",
    "\n",
    "### numpy 배열\n",
    "\n",
    "- numpy는 과학계산을 수행하는 파이썬 핵심 패키지\n",
    "- 주요 제공 기능\n",
    "    - N 차원 배열\n",
    "    - 원소별 연산(브로드캐스팅)\n",
    "    - 선형대수학 등 핵심 수학 연산\n",
    "    - C/C++, 포트란 코드 인터페이스 제공\n",
    "    \n",
    "- numpy 공식 레퍼런스\n",
    "    - https://docs.scipy.org/doc/numpy/reference/\n",
    "    \n",
    "### Python list vs numpy 배열\n",
    "\n",
    "- Python의 리스트는 거의 모든 종류의 객체를 담을 수 있어 유연하지만, 속도와 메모리 효율이 좋지 않다는 것이 단점\n",
    "- numpy의 배열은 한 행에 동일 형식의 원소를 저장\n",
    "    - Python의 리스트에 비해 유연성은 떨어지지만\n",
    "    - 빠른 연산과 메모리 효율에서 강점을 보인다\n",
    "    \n",
    "### numpy의 사용\n",
    "\n",
    "- 일반적으로 numpy는 np라는 별칭으로 줄여 임포트한다"
   ]
  },
  {
   "cell_type": "code",
   "execution_count": 1,
   "metadata": {},
   "outputs": [],
   "source": [
    "# numpy를 np 별칭으로 임포트 해 봅시다\n",
    "import numpy as np"
   ]
  },
  {
   "cell_type": "markdown",
   "metadata": {},
   "source": [
    "### numpy 배열 만들기\n",
    "\n",
    "- Python의 리스트를 이용한 생성\n",
    "    - 각 값들은 (양의 정수)튜플 형태로 인덱싱됨\n",
    "    - shape는 각 차원의 크기를 튜플로 반환\n",
    "    - ndim는 배열이 몇 차원인지 의미\n",
    "    - 다차원 배열을 만들기 위해서는 리스트를 중첩하여 생성"
   ]
  },
  {
   "cell_type": "code",
   "execution_count": 18,
   "metadata": {
    "scrolled": true
   },
   "outputs": [
    {
     "name": "stdout",
     "output_type": "stream",
     "text": [
      "type of arr: <class 'numpy.ndarray'>\n",
      "shape of arr: (3,)\n",
      "rank of arr: 1\n"
     ]
    }
   ],
   "source": [
    "# Python의 리스트를 이용한 생성 방법 연습\n",
    "# 1차원 배열\n",
    "# 배열 만들기 np.array\n",
    "arr = np.array([1, 2, 3])\n",
    "print(\"type of arr:\", type(arr)) #ndarray\n",
    "print(\"shape of arr:\", arr.shape) # 튜플로 반환\n",
    "print(\"rank of arr:\", np.ndim(arr)) # 배열의 차원?"
   ]
  },
  {
   "cell_type": "code",
   "execution_count": 19,
   "metadata": {},
   "outputs": [
    {
     "name": "stdout",
     "output_type": "stream",
     "text": [
      "[[1 2 3]\n",
      " [4 5 6]\n",
      " [7 8 9]]\n",
      "shape of arr2d: (3, 3)\n",
      "rank of arr2d: 2\n"
     ]
    }
   ],
   "source": [
    "# 2차원 배열 :리스트를 주첩ㅎ여 데이터 전달\n",
    "arr2d = np.array([[1, 2, 3], [4, 5, 6], [7, 8, 9]])\n",
    "print(arr2d)\n",
    "print(\"shape of arr2d:\", arr2d.shape)\n",
    "print(\"rank of arr2d:\", np.ndim(arr2d))"
   ]
  },
  {
   "cell_type": "markdown",
   "metadata": {},
   "source": [
    "- List 없이 array 만들기\n",
    "    - zeros() : 0으로 채워진 배열\n",
    "    - ones() : 1로 채워진 배열\n",
    "    - full() : 지정한 상수로 채워진 배열\n",
    "    - eye() : 단위 행렬 생성\n",
    "    - empty_like() : 주어진 배열과 동일한 shape를 가지며 비어 있는 배열 생성"
   ]
  },
  {
   "cell_type": "code",
   "execution_count": 30,
   "metadata": {},
   "outputs": [
    {
     "name": "stdout",
     "output_type": "stream",
     "text": [
      "2*2 영배열: [[0. 0.]\n",
      " [0. 0.]]\n",
      "2*2 1로 채워진 배열: [[1. 1.]\n",
      " [1. 1.]]\n",
      "2*2 7로 채워진 배열: [[7 7]\n",
      " [7 7]]\n",
      "2*2 단위행렬: [[1. 0.]\n",
      " [0. 1.]]\n"
     ]
    }
   ],
   "source": [
    "# array를 만드는 다양한 방법을 알아봅시다\n",
    "# 영배열\n",
    "arr_zero = np.zeros((2, 2)) # 2행2열의 영배열\n",
    "print(\"2*2 영배열:\", arr_zero)\n",
    "# 1로 채워진 배열\n",
    "arr_ones = np.ones((2, 2))\n",
    "print(\"2*2 1로 채워진 배열:\", arr_ones)\n",
    "arr_full = np.full((2, 2), 7)\n",
    "print(\"2*2 7로 채워진 배열:\", arr_full)\n",
    "# 단위행렬: eye\n",
    "arr_eye = np.eye(2)\n",
    "print(\"2*2 단위행렬:\", arr_eye)"
   ]
  },
  {
   "cell_type": "markdown",
   "metadata": {},
   "source": [
    "- 범위 벡터의 생성\n",
    "    - arange() : 범위 값으로 배열 만들기\n",
    "    - linspace() : 선형 간격의 벡터 만들기\n",
    "    - logspace() : 로그 간격의 벡터 만들기"
   ]
  },
  {
   "cell_type": "code",
   "execution_count": 39,
   "metadata": {
    "scrolled": false
   },
   "outputs": [
    {
     "name": "stdout",
     "output_type": "stream",
     "text": [
      "[ 1.          1.02353102  1.04761575  1.07226722  1.09749877  1.12332403\n",
      "  1.149757    1.17681195  1.20450354  1.23284674  1.26185688  1.29154967\n",
      "  1.32194115  1.35304777  1.38488637  1.41747416  1.45082878  1.48496826\n",
      "  1.51991108  1.55567614  1.59228279  1.62975083  1.66810054  1.70735265\n",
      "  1.7475284   1.78864953  1.83073828  1.87381742  1.91791026  1.96304065\n",
      "  2.009233    2.05651231  2.10490414  2.15443469  2.20513074  2.25701972\n",
      "  2.3101297   2.36448941  2.42012826  2.47707636  2.53536449  2.59502421\n",
      "  2.65608778  2.71858824  2.7825594   2.84803587  2.91505306  2.98364724\n",
      "  3.05385551  3.12571585  3.19926714  3.27454916  3.35160265  3.43046929\n",
      "  3.51119173  3.59381366  3.67837977  3.76493581  3.85352859  3.94420606\n",
      "  4.03701726  4.1320124   4.22924287  4.32876128  4.43062146  4.53487851\n",
      "  4.64158883  4.75081016  4.86260158  4.97702356  5.09413801  5.21400829\n",
      "  5.33669923  5.46227722  5.59081018  5.72236766  5.85702082  5.9948425\n",
      "  6.13590727  6.28029144  6.42807312  6.57933225  6.73415066  6.8926121\n",
      "  7.05480231  7.22080902  7.39072203  7.56463328  7.74263683  7.92482898\n",
      "  8.11130831  8.30217568  8.49753436  8.69749003  8.90215085  9.11162756\n",
      "  9.32603347  9.54548457  9.77009957 10.        ]\n"
     ]
    }
   ],
   "source": [
    "# 범위 벡터를 만들기 연습\n",
    "arr_range = np.arange(100) # 0~99 까지 범위 벡터\n",
    "#print(arr_range)\n",
    "arr_linspace = np.linspace(0, 1, 100) # 0~1까지 100개로 선형 분할(간격 동일)\n",
    "#print(arr_linspace)\n",
    "arr_logspace = np.logspace(0, 1, 100, base=10.0)\n",
    "#0~1 100개로 지수함수 이용 밑수가 10\n",
    "print(arr_logspace)"
   ]
  },
  {
   "cell_type": "markdown",
   "metadata": {},
   "source": [
    "### array의 타입\n",
    "\n",
    "- numpy의 array는 한 가지 타입만 담을 수 있다\n",
    "    - 데이터 타입을 지정하지 않으면 임의로 적절한 데이터 타입을 선택\n",
    "    - dtype으로 array의 타입을 체크할 수 있다\n",
    "    - array 생성시 dtype 옵션 파라미터로 데이터 타입을 강제할 수 있다\n",
    "    - astype() 메서드를 이용하면 다른 데이터타입으로 변경할 수 있다\n",
    "    \n",
    "- numpy 자료형 참조 페이지 : https://docs.scipy.org/doc/numpy/reference/arrays.dtypes.html"
   ]
  },
  {
   "cell_type": "code",
   "execution_count": 45,
   "metadata": {
    "scrolled": true
   },
   "outputs": [
    {
     "name": "stdout",
     "output_type": "stream",
     "text": [
      "[1. 1.]\n",
      "dtype of arr: float64\n",
      "dtype of arr2: int32\n",
      "dtype of arr3: float64\n"
     ]
    }
   ],
   "source": [
    "# array의 타입 체크, 변경을 연습해 봅니다.\n",
    "arr = np.ones(2) # 1로 채워진 1차원 배열\n",
    "print(arr)\n",
    "# 배열의 타입을 확인\n",
    "print(\"dtype of arr:\", arr.dtype)\n",
    "\n",
    "# 배열 생성시 타입을 강제 할 수 있다\n",
    "arr2 = np.ones(2, dtype=int) # 배열 데이터 타입을 int로 강제\n",
    "print(\"dtype of arr2:\", arr2.dtype)\n",
    "# astype으로 타입 변경\n",
    "arr3 = arr2.astype(np.float64)\n",
    "print(\"dtype of arr3:\", arr3.dtype)"
   ]
  },
  {
   "cell_type": "markdown",
   "metadata": {},
   "source": [
    "### array의 재구성\n",
    "\n",
    "- 생성된 array는 다양한 형태로 변경될 수 있다\n",
    "    - reshape() : 배열을 다른 형태로 변경\n",
    "    - ravel() : 다차원 배열을 1차원 형태로 변경\n",
    "    - transpose() : 행렬의 전치. 열 <-> 행\n",
    "        - 간단히 T 속성을 사용해도 무방"
   ]
  },
  {
   "cell_type": "code",
   "execution_count": 53,
   "metadata": {},
   "outputs": [
    {
     "name": "stdout",
     "output_type": "stream",
     "text": [
      "[[ 0  1  2  3  4]\n",
      " [ 5  6  7  8  9]\n",
      " [10 11 12 13 14]\n",
      " [15 16 17 18 19]\n",
      " [20 21 22 23 24]]\n",
      "전치행렬\n",
      "[[ 0  5 10 15 20]\n",
      " [ 1  6 11 16 21]\n",
      " [ 2  7 12 17 22]\n",
      " [ 3  8 13 18 23]\n",
      " [ 4  9 14 19 24]]\n",
      "[[ 0  5 10 15 20]\n",
      " [ 1  6 11 16 21]\n",
      " [ 2  7 12 17 22]\n",
      " [ 3  8 13 18 23]\n",
      " [ 4  9 14 19 24]]\n"
     ]
    }
   ],
   "source": [
    "# array 재구성 연습\n",
    "arr1d = np.arange(25)\n",
    "arr1d\n",
    "# 배열 형태 변경 reshape -> 5*5 배열로\n",
    "arr2d = arr1d.reshape(5, 5)\n",
    "arr2d\n",
    "\n",
    "# arr1d가 25개 요소 -> 4*4*4 3차원 배열로 변경할 경우\n",
    "#arr3d = arr1d.reshape(4, 4, 4)\n",
    "# 채워야 할 요소가 부족하면 ValueError\n",
    "\n",
    "# 다차원 배열 -> 1차원 배열\n",
    "flatten = arr2d.ravel()\n",
    "flatten\n",
    "\n",
    "# 행렬의 전치: transpose T속성\n",
    "print(arr2d)\n",
    "print(\"전치행렬\")\n",
    "print(arr2d.transpose()) # 메서드로 전치\n",
    "print(arr2d.T) # T속성으로 전치"
   ]
  },
  {
   "cell_type": "markdown",
   "metadata": {},
   "source": [
    "### array의 인덱싱과 슬라이싱\n",
    "\n",
    "- numpy의 array 인덱싱과 슬라이싱은 기본적으로는 파이썬의 인덱싱/슬라이싱 방식과 거의 동일하다\n",
    "- numpy의 array는 다차원인 경우가 많기 때문에 각 차원별 인덱스/슬라이스 범위를 잘 정해주어야 한다"
   ]
  },
  {
   "cell_type": "code",
   "execution_count": 59,
   "metadata": {
    "scrolled": true
   },
   "outputs": [
    {
     "name": "stdout",
     "output_type": "stream",
     "text": [
      "[[ 1  2  3]\n",
      " [ 4  5  6]\n",
      " [ 7  8  9]\n",
      " [10 11 12]]\n"
     ]
    },
    {
     "data": {
      "text/plain": [
       "array([10, 11, 12])"
      ]
     },
     "execution_count": 59,
     "metadata": {},
     "output_type": "execute_result"
    }
   ],
   "source": [
    "# array의 인덱싱을 연습해 봅니다\n",
    "arr = np.arange(1, 13).reshape(4, 3)\n",
    "print(arr)\n",
    "# 2차원 배열 행, 열의 순서로 인덱싱\n",
    "arr[0, 1] # 0행 1열\n",
    "#  슬라이싱: 행 범위, 열 범위\n",
    "# 가장 첫 번째 행 전체를 반환\n",
    "arr[0, :]\n",
    "# 역인덱싱 가능\n",
    "# 역인덱싱을 이용한 가장 마지막 행의 반환\n",
    "arr[-1, :]"
   ]
  },
  {
   "cell_type": "markdown",
   "metadata": {},
   "source": [
    "### 조건적 인덱싱\n",
    "\n",
    "- where() : 조건에 해당하는 인덱스를 추출\n",
    "- delete() : 특정 인덱스 삭제"
   ]
  },
  {
   "cell_type": "code",
   "execution_count": 65,
   "metadata": {},
   "outputs": [
    {
     "name": "stdout",
     "output_type": "stream",
     "text": [
      "[[ 1  2  3  4]\n",
      " [ 5  6  7  8]\n",
      " [ 9 10 11 12]\n",
      " [13 14 15 16]]\n",
      "(array([2, 2, 3, 3, 3, 3], dtype=int64), array([2, 3, 0, 1, 2, 3], dtype=int64))\n"
     ]
    },
    {
     "data": {
      "text/plain": [
       "array([ 5,  6,  7,  8,  9, 10, 11, 12, 13, 14, 15, 16])"
      ]
     },
     "execution_count": 65,
     "metadata": {},
     "output_type": "execute_result"
    }
   ],
   "source": [
    "# 조건적 인덱싱 연습\n",
    "arr = np.arange(1, 17).reshape(4, 4)\n",
    "# 4*4 1~16가지 채워진 배열\n",
    "print(arr)\n",
    "# 배열 내부 요소가 10보다 큰 요소 확인\n",
    "arr > 10\n",
    "\n",
    "# 요소 값이 10보다 큰 요소의 인덱스 확인\n",
    "indexes = np.where(arr > 10)\n",
    "indexes\n",
    "# 이 인덱스를 기반으로 새 배열 만들기\n",
    "newArr = arr[indexes]\n",
    "newArr\n",
    "# 특정 인덱스의 요소 삭제 delete\n",
    "# print(indexes)\n",
    "# newArr2 = np.delete(arr, indexes)\n",
    "# newArr2"
   ]
  },
  {
   "cell_type": "markdown",
   "metadata": {},
   "source": [
    "### Boolean 배열 인덱싱\n",
    "\n",
    "- 논리 연산을 수행하여 복수의 조건을 만족하는 인덱스를 추출해내는 방법\n",
    "- numpy 배열 불린 연산에서는 &(and), |(or), ~(not) 연산자를 사용할 수 있다\n",
    "\n",
    "- Boolean 배열 인덱싱 참조 : https://docs.scipy.org/doc/numpy/reference/arrays.indexing.html"
   ]
  },
  {
   "cell_type": "code",
   "execution_count": 74,
   "metadata": {
    "scrolled": true
   },
   "outputs": [
    {
     "name": "stdout",
     "output_type": "stream",
     "text": [
      "[[ 1  2  3  4]\n",
      " [ 5  6  7  8]\n",
      " [ 9 10 11 12]\n",
      " [13 14 15 16]]\n"
     ]
    },
    {
     "data": {
      "text/plain": [
       "array([ 1,  2,  4,  5,  7,  8, 10, 11, 13, 14, 16])"
      ]
     },
     "execution_count": 74,
     "metadata": {},
     "output_type": "execute_result"
    }
   ],
   "source": [
    "# Boolean 배열 인덱싱을 연습해 봅시다.\n",
    "source = np.arange(1, 17).reshape(4, 4)\n",
    "print(source)\n",
    "\n",
    "copy = source.copy() # 복제본 생성\n",
    "# copy 값이 3보다 큰 요소를 추출\n",
    "index_gt_3 = copy > 3\n",
    "index_gt_3\n",
    "# copy값이 3보다 작은 요소를 추출\n",
    "index_lt_3 = copy < 3\n",
    "index_lt_3\n",
    "\n",
    "# 비교 연산을 이용한 불린값을 인덱스 범위로 지정하면 해당 논리값이 True인 요소만 반환 받을 수 있다\n",
    "copy[index_gt_3]\n",
    "\n",
    "# 추출조건이 복잡하면 논리연산자 &, |, ~ 으로 조합할 수 있다\n",
    "# copy값이 3보다 크고 9보다 작은 요소의 추출\n",
    "index_comp = (copy > 3) & (copy < 7)\n",
    "index_comp\n",
    "arr[index_comp]\n",
    "\n",
    "# copy의 요소 중 3의 배수가 아닌 요소만 추출\n",
    "index_mod = copy % 3 == 0\n",
    "index_mod\n",
    "copy[index_mod] # 요소가 3의 배수인 것을 추출\n",
    "copy[~index_mod] # 요소가 3의 배수가 아닌 것"
   ]
  },
  {
   "cell_type": "markdown",
   "metadata": {},
   "source": [
    "### 배열 연산\n",
    "\n",
    "- 기본적 수학 함수는 배열의 각 요소별로 동작\n",
    "- 연산자를 이용 동작하거나 numpy 함수 모듈을 이용하여 동작함"
   ]
  },
  {
   "cell_type": "code",
   "execution_count": 81,
   "metadata": {
    "scrolled": false
   },
   "outputs": [
    {
     "name": "stdout",
     "output_type": "stream",
     "text": [
      "x: [[1 2]\n",
      " [3 4]]\n",
      "y: [[5 6]\n",
      " [7 8]]\n",
      "요소의 곱: [[ 5 12]\n",
      " [21 32]]\n",
      "numpy 함수 이용: [[ 5 12]\n",
      " [21 32]]\n"
     ]
    }
   ],
   "source": [
    "# 배열 연산을 연습해 봅니다.\n",
    "x = np.arange(1, 5).reshape(2, 2) # 2*2 1~4의 배열\n",
    "y = np.arange(5, 9).reshape(2, 2)\n",
    "\n",
    "print(\"x:\", x)\n",
    "print(\"y:\", y)\n",
    "\n",
    "# 연산자 +, -, *, /\n",
    "# 넘파이의 함수들 add, subtract, multiply, divide\n",
    "\n",
    "# 요소별 곱\n",
    "print(\"요소의 곱:\", x * y)\n",
    "print(\"numpy 함수 이용:\", np.multiply(x, y)) # numpy함수 이용한 요소의 곱"
   ]
  },
  {
   "cell_type": "markdown",
   "metadata": {},
   "source": [
    "### numpy 행렬 곱\n",
    "\n",
    "- *, multiply는 기본적으로 요소의 곱\n",
    "- 벡터의 내적, 벡터와 행렬의 곱, 행렬곱을 위해서는 dot 함수 사용\n",
    "- dot 메서드는 모듈 함수, 배열 객체의 인스턴스 양쪽 모두 사용 가능"
   ]
  },
  {
   "cell_type": "code",
   "execution_count": 87,
   "metadata": {
    "scrolled": false
   },
   "outputs": [
    {
     "name": "stdout",
     "output_type": "stream",
     "text": [
      "219\n",
      "219\n",
      "x: [[1 2]\n",
      " [3 4]]\n",
      "v1: [ 9 10]\n",
      "x dot v1: [29 67]\n",
      "x dot y: [[19 22]\n",
      " [43 50]]\n"
     ]
    }
   ],
   "source": [
    "# numpy 행렬 곱 연습\n",
    "v1 = np.array([9, 10]) # 행렬\n",
    "v2 = np.array([11, 12]) # 행렬\n",
    "\n",
    "# 벡터의 내적\n",
    "print(v1.dot(v2)) # 인스턴스 메서드\n",
    "print(np.dot(v1, v2))\n",
    "\n",
    "# 행렬과 벡터의 내적\n",
    "x = np.arange(1, 5).reshape(2, 2)\n",
    "print(\"x:\", x)\n",
    "# 행렬 x와 벡터 v1의 내적\n",
    "print(\"v1:\", v1)\n",
    "print(\"x dot v1:\", x.dot(v1))\n",
    "\n",
    "# 행렬과 행렬의 내적\n",
    "y = np.arange(5, 9).reshape(2, 2)\n",
    "# 행렬 x와 행렬 y의 내적\n",
    "print(\"x dot y:\", np.dot(x, y))"
   ]
  },
  {
   "cell_type": "markdown",
   "metadata": {},
   "source": [
    "### array 연산 함수\n",
    "\n",
    "- numpy는 배열 연산에 유용하게 사용되는 많은 함수를 제공\n",
    "- 배열 연산 함수 참조 : https://docs.scipy.org/doc/numpy/reference/routines.math.html"
   ]
  },
  {
   "cell_type": "code",
   "execution_count": 91,
   "metadata": {
    "scrolled": true
   },
   "outputs": [
    {
     "name": "stdout",
     "output_type": "stream",
     "text": [
      "[[ 1  2  3]\n",
      " [ 4  5  6]\n",
      " [ 7  8  9]\n",
      " [10 11 12]]\n",
      "sum of x: 78\n",
      "sum of x(axis=0): [22 26 30]\n",
      "sum of x(axis=1): [ 6 15 24 33]\n"
     ]
    }
   ],
   "source": [
    "# array 연산 함수 중, sum 함수를 활용해 봅니다\n",
    "x = np.arange(1, 13).reshape(4, 3) # 4행 3열\n",
    "print(x)\n",
    "\n",
    "# 모든 요소의 합산 값의 확득\n",
    "print(\"sum of x:\", np.sum(x))\n",
    "# 전체 값이 아닌 특정 축 방향으로 합산 수행\n",
    "# axis 0(열), 1(행), 2(면), 3, 4, 5\n",
    "print(\"sum of x(axis=0):\", np.sum(x, axis=0))\n",
    "print(\"sum of x(axis=1):\", np.sum(x, axis=1))"
   ]
  },
  {
   "cell_type": "markdown",
   "metadata": {},
   "source": [
    "### 브로드캐스팅\n",
    "\n",
    "- numpy에서 shape가 다른 배열 혹은 배열과 스칼라 사이의 산술 연산이 가능하도록 하는 매커니즘\n",
    "- Universal Function이라고도 함"
   ]
  },
  {
   "cell_type": "code",
   "execution_count": 93,
   "metadata": {
    "scrolled": true
   },
   "outputs": [
    {
     "name": "stdout",
     "output_type": "stream",
     "text": [
      "[[ 2  3  4  5]\n",
      " [ 6  7  8  9]\n",
      " [10 11 12 13]]\n",
      "[[ 1  3  5  7]\n",
      " [ 5  7  9 11]\n",
      " [ 9 11 13 15]]\n"
     ]
    }
   ],
   "source": [
    "# 브로드캐스팅을 연습해 봅니다\n",
    "# 배열과 스칼라의 연산\n",
    "x =np.arange(12).reshape(3, 4) # 0~11 3행4열\n",
    "# 각 요소에 같은 값을 더해보기\n",
    "print(x + 2)\n",
    "# 배열과 배열의 연산\n",
    "y = np.array([1, 2, 3, 4])\n",
    "print(x + y)"
   ]
  },
  {
   "cell_type": "markdown",
   "metadata": {},
   "source": [
    "### numpy 난수 발생\n",
    "\n",
    "- 임의의 수가 필요할 때, 혹은 전체 데이터를 기반으로 샘플링을 하고자 할 때는 난수가 필요\n",
    "- numpy의 난수 발생은 단순히 임의의 난수를 넘어 다양한 통계(분포:distribution) 기반의 샘플링을 위한 난수 기능을 다양하게 제공\n",
    "- random 패키지 내에 위치\n",
    "\n",
    "- 다양한 난수 메서드들\n",
    "\n",
    "    - randint() : 정수 난수 발생\n",
    "    - randn() : n차원 난수 발생\n",
    "    - binomial() : 이항분포\n",
    "    - hypergeometric() : 초기하분포\n",
    "    - poisson() : 포아송 분포\n",
    "    - normal() : 정규 분포\n",
    "    - standart_t() : t-분포\n",
    "    - uniform() : 균등분포\n",
    "    - f() : f-분포\n",
    "    \n",
    "    - seed() : 재현 가능성(Reproductibility)을 위한 난수 초기값 설정"
   ]
  },
  {
   "cell_type": "code",
   "execution_count": 105,
   "metadata": {},
   "outputs": [
    {
     "name": "stdout",
     "output_type": "stream",
     "text": [
      "6\n",
      "[29 15 43  8 21 39]\n",
      "[[-0.91682684 -0.12414718 -2.01096289]\n",
      " [-0.49280342  0.39257975 -0.92918467]\n",
      " [ 0.07983181 -0.1595165   0.02222183]]\n",
      "정규분포의 난수: -0.42779291360334537\n",
      "정규분포의 난수(사이즈 지정): [[-0.53181741 -0.1174755 ]\n",
      " [ 0.2220789  -0.7679765 ]]\n",
      "균등분포(사이즈 지정): [[0.38246199 0.98323089]\n",
      " [0.46676289 0.85994041]]\n",
      "[-1.57536855  5.73831381 -6.08015885  3.35827083  2.3375779  -3.30329327\n",
      "  3.39068458  1.11935674 -1.15941885 -3.47631073  1.69833848 -2.11336035\n",
      " -4.13381791 -1.05934996 -1.38439715  0.19997184 -0.52885699  3.60267832\n",
      "  2.09519682 -0.51488651 -2.72155974  3.56587718  2.35659637  7.96803027\n",
      "  0.79045812  4.92531335  1.3824489   0.25777041 -4.52987185  2.16450739\n",
      " -2.53025977 -1.53997622 -0.13061041 -0.82590273 -4.68920038 -2.38689298\n",
      "  2.7917532   2.03330223  2.09532078  0.52080619  1.98685354  0.72336649\n",
      " -0.50461526  3.49430594 -0.73724306 -2.30900332  3.63651703  3.70049041\n",
      " -4.72246586  1.91385883 -6.13326907  3.20844266 -2.80128852  2.35262456\n",
      " -1.84462728  0.99867732 -4.14215107 -0.84241887 -0.17945179  2.8835213\n",
      "  5.38284253  1.74206863  0.89295135 -3.08434731 -4.25578939  0.57101095\n",
      "  0.40726149  1.82426899  2.11494393  1.08277013 -4.40090366  2.67788841\n",
      " -0.3157714  -2.86603933 -1.2442939  -4.19622264 -1.03224162  2.25235766\n",
      " -0.98287555 -2.58479416 -0.7745544   1.38286685 -4.04816992 -3.05721836\n",
      "  0.38103672 -3.74833117  5.83534684 -0.46000937 -2.72096168 -2.45206247\n",
      " -1.44936804 -1.70948505 -6.27479901  3.79122159 -0.04645002 -0.08212934\n",
      "  2.45362054 -3.16381341 -2.27498136  1.37224695]\n"
     ]
    },
    {
     "data": {
      "image/png": "[encoded data removed]",
      "text/plain": [
       "<Figure size 432x288 with 1 Axes>"
      ]
     },
     "metadata": {
      "needs_background": "light"
     },
     "output_type": "display_data"
    }
   ],
   "source": [
    "%matplotlib inline\n",
    "# 기본적인 난수 발생과 분포 기반 난수를 연습합니다.\n",
    "# 기본적인 난수 발생\n",
    "np.random.seed(seed=42) # 난수 seed 설정\n",
    "# 랜덤의 재현성 확보를 위함\n",
    "\n",
    "# 정수 난수를 생성\n",
    "print(np.random.randint(10)) # 10보다 작은 정수\n",
    "print(np.random.randint(1, 46, 6)) # 1~45가지 난수 6개\n",
    "\n",
    "# n차원의 난수 생성\n",
    "print(np.random.randn(3, 3)) # 3*3의 난수 행렬 생성\n",
    "\n",
    "# 분포 기반의 난수\n",
    "print(\"정규분포의 난수:\", np.random.normal())\n",
    "print(\"정규분포의 난수(사이즈 지정):\", np.random.normal(size=(2, 2))) # 정규분포 데이터\n",
    "# 2*2 난수\n",
    "\n",
    "print(\"균등분포(사이즈 지정):\", np.random.uniform(size=(2, 2)))\n",
    "\n",
    "# 연습\n",
    "# 평균이 0이고 표준편차가 3인 정규분포로부터 난수 100개 발생시켜서 히스토그램으로 그리기\n",
    "rand_norm = np.random.normal(0.0, 3.0, size=100)\n",
    "print(rand_norm)\n",
    "import matplotlib .pyplot as plt\n",
    "plt.hist(rand_norm)\n",
    "plt.show()"
   ]
  },
  {
   "cell_type": "markdown",
   "metadata": {},
   "source": [
    "### numpy 파일 저장/불러오기\n",
    "\n",
    "- numpy는 바이너리 형태로 저장 가능하며 저장된 데이터는 나중에 불러와 다시 사용할 수 있다\n",
    "\n",
    "- 저장 메서드\n",
    "    - save() : npy(비압축) 형태로 저장\n",
    "    - savez() : npz(압축) 형태로 저장. 압축 과정을 거치므로 save 메서드에 비해 속도는 느리지만, 대용량의 데이터 저장엔 용량의 측면에서 유리\n",
    "    \n",
    "- 불러오기 메서드\n",
    "    - load()"
   ]
  },
  {
   "cell_type": "code",
   "execution_count": 111,
   "metadata": {},
   "outputs": [],
   "source": [
    "# numpy 파일 저장 불러오기 연습\n",
    "# 큰 배열을 생성: 1000*1000의 난수 행렬\n",
    "original = np.random.randn(1000, 1000)\n",
    "#print(original)\n",
    "\n",
    "# 기본적으로는 확장자 지정 안해도 적합한 확장자 지정\n",
    "np.save(\"npydata\", original) # 비압축\n",
    "np.savez(\"npzdata\", original) # 압축(속도는 느리나 용량 유리)"
   ]
  },
  {
   "cell_type": "code",
   "execution_count": 118,
   "metadata": {},
   "outputs": [
    {
     "name": "stdout",
     "output_type": "stream",
     "text": [
      "['arr_0']\n"
     ]
    },
    {
     "data": {
      "text/plain": [
       "array([[ 0.51855928,  2.5352329 , -0.37677066, ..., -0.01490492,\n",
       "        -1.29607905, -0.70368728],\n",
       "       [ 0.21375386, -0.22143069, -0.73003366, ...,  0.76862645,\n",
       "         0.07181702, -1.55466347],\n",
       "       [ 0.57583285, -0.62695045, -0.83034345, ..., -1.40542726,\n",
       "         0.34780019,  1.18489856],\n",
       "       ...,\n",
       "       [-1.43336192,  0.53924364, -0.09765451, ...,  0.79589147,\n",
       "         1.67497993, -0.13572457],\n",
       "       [ 0.41652252,  2.27494008,  2.27206648, ...,  0.65911906,\n",
       "         0.56134105, -0.29027711],\n",
       "       [ 0.64604587,  0.14661627,  1.27969395, ...,  0.88830246,\n",
       "         1.12165845, -0.02437174]])"
      ]
     },
     "execution_count": 118,
     "metadata": {},
     "output_type": "execute_result"
    }
   ],
   "source": [
    "# 데이터 불러오기: load\n",
    "recover = np.load(\"npydata.npy\")\n",
    "#print(recover)\n",
    "recoverz = np.load(\"npzdata.npz\")\n",
    "print(recoverz.files) # 배열객체의 키 확인\n",
    "recoverz['arr_0'] # 해당 배열의 키로 내용 접근"
   ]
  },
  {
   "cell_type": "code",
   "execution_count": null,
   "metadata": {},
   "outputs": [],
   "source": []
  }
 ],
 "metadata": {
  "kernelspec": {
   "display_name": "Python 3",
   "language": "python",
   "name": "python3"
  },
  "language_info": {
   "codemirror_mode": {
    "name": "ipython",
    "version": 3
   },
   "file_extension": ".py",
   "mimetype": "text/x-python",
   "name": "python",
   "nbconvert_exporter": "python",
   "pygments_lexer": "ipython3",
   "version": "3.7.4"
  }
 },
 "nbformat": 4,
 "nbformat_minor": 2
}
