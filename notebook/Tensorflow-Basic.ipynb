{
 "cells": [
  {
   "cell_type": "code",
   "execution_count": 1,
   "metadata": {},
   "outputs": [
    {
     "name": "stdout",
     "output_type": "stream",
     "text": [
      "[[0. 0.]\n",
      " [0. 0.]]\n"
     ]
    }
   ],
   "source": [
    "import tensorflow as tf\n",
    "\n",
    "ta = tf.zeros((2, 2)) # 2행 2열\n",
    "\n",
    "session = tf.InteractiveSession()\n",
    "print(ta.eval())\n",
    "session.close()"
   ]
  },
  {
   "cell_type": "code",
   "execution_count": 2,
   "metadata": {},
   "outputs": [
    {
     "name": "stdout",
     "output_type": "stream",
     "text": [
      "a*b 600\n"
     ]
    }
   ],
   "source": [
    "# Graph를 먼저 만들어서 데이터 흐름을 표현한다\n",
    "\n",
    "# 앞서 실행했던 세션의 그래프를 리셋\n",
    "tf.reset_default_graph()\n",
    "# 두 개의 수를 곱하는 데이터의 흐름을 그래프로 만들어본다\n",
    "a = tf.constant(20, name=\"a\")\n",
    "b = tf.constant(30, name=\"b\")\n",
    "\n",
    "mul_op = tf.multiply(a, b)\n",
    "\n",
    "\n",
    "# 실행,  그래프를 직접 시각화\n",
    "with tf.Session() as sess:\n",
    "    # 그래프 시각화 위해 로그 정보 기록\n",
    "    tf.summary.FileWriter(\"d:/log_dir\", graph=sess.graph)\n",
    "    print(\"a*b\", sess.run(mul_op)) # 실제 연산은 세션에서"
   ]
  },
  {
   "cell_type": "code",
   "execution_count": 3,
   "metadata": {},
   "outputs": [
    {
     "name": "stdout",
     "output_type": "stream",
     "text": [
      "[[0. 0. 0.]\n",
      " [0. 0. 0.]\n",
      " [0. 0. 0.]]\n",
      "[[0. 0.]\n",
      " [0. 0.]]\n",
      "3.0\n",
      "4.0\n"
     ]
    }
   ],
   "source": [
    "#변수와 상수\n",
    "# 상수: tf.constant\n",
    "# 변수: tf.Variable -> tf.global_variabes_initializer로 초기화\n",
    "hello = tf.constant(\"Hello, Tensorflow\")\n",
    "w1 = tf.zeros((3, 3)) \n",
    "var1 = tf.Variable(tf.zeros((2, 2)), name=\"weights\")\n",
    "# 2행2열의 0ㅇ로 채워진 텐서\n",
    "node1 = tf.constant(3.0, dtype=tf.float32) #dtype으로 텐서의 내부 데이터 타입을 설정\n",
    "node2 = tf.constant(4.0) # dtype 생략 -> tf,float32타입으로 결정\n",
    "\n",
    "with tf.Session() as sess:\n",
    "    # 변수가 있을 경우 초기화 수행\n",
    "    sess.run(tf.global_variables_initializer()) # 변수의 초기화\n",
    "    print(sess.run(w1))\n",
    "    print(sess.run(var1))\n",
    "    print(node1.eval())\n",
    "    print(node2.eval())"
   ]
  },
  {
   "cell_type": "code",
   "execution_count": 4,
   "metadata": {},
   "outputs": [
    {
     "name": "stdout",
     "output_type": "stream",
     "text": [
      "실제 연산의 수행: 5\n"
     ]
    }
   ],
   "source": [
    "# Graph의 생성\n",
    "# session\n",
    "# Tensor: Data\n",
    "# Tensorflow: 데이터의 플로우\n",
    "# 개별적으로 연산 수행하는 것이 아니라 데이터의 흐름을 그래프로 표현한 이후 실제 연산은 Session에서 수행\n",
    "tf.reset_default_graph() # 그래프 초기화\n",
    "\n",
    "a = tf.constant(2, name=\"a\")\n",
    "b = tf.constant(3, name=\"b\")\n",
    "add_op = tf.add(a, b, name=\"add\")\n",
    "\n",
    "with tf.Session() as sess:\n",
    "    tf.summary.FileWriter(\"d:/log_dir\", graph=sess.graph)\n",
    "    print(\"실제 연산의 수행:\", sess.run(add_op))"
   ]
  },
  {
   "cell_type": "code",
   "execution_count": 5,
   "metadata": {},
   "outputs": [
    {
     "name": "stdout",
     "output_type": "stream",
     "text": [
      "scala 변수: 1 <tf.Variable 'scalar1:0' shape=() dtype=int32_ref>\n",
      "scala 변수2: 2 <tf.Variable 'scalar2:0' shape=() dtype=int32_ref>\n",
      "matrix 변수: [[0 1]\n",
      " [2 3]] <tf.Variable 'matrix:0' shape=(2, 2) dtype=int32_ref>\n",
      "분포를 이용한 matrix 변수의 초기화: [[ 0.01175605  0.01031111  0.00861976 ... -0.00324447 -0.01116965\n",
      "   0.01551179]\n",
      " [ 0.00659956  0.00242709 -0.00815523 ...  0.00395405  0.00979263\n",
      "   0.01161216]\n",
      " [-0.00205083  0.0077141   0.00926358 ...  0.00288189 -0.00420392\n",
      "   0.00928708]\n",
      " ...\n",
      " [-0.01685472  0.00033433 -0.00284041 ...  0.00366753  0.00244239\n",
      "   0.01469059]\n",
      " [ 0.00244791  0.00817177  0.01025681 ... -0.01357173 -0.00763388\n",
      "  -0.0008214 ]\n",
      " [ 0.00469538  0.00524509 -0.00833911 ...  0.01785381 -0.00267503\n",
      "   0.00974486]] <tf.Variable 'big_matrix:0' shape=(784, 10) dtype=float32_ref>\n"
     ]
    }
   ],
   "source": [
    "# 변수\n",
    "# 변수는 저장 및 변경이 가능\n",
    "# 텐서플로의 초기화 메서드로 할당 및 변경 가능\n",
    "tf.reset_default_graph()\n",
    "\n",
    "s1 = tf.get_variable(name=\"scalar1\", initializer=1) #\n",
    "s2 = tf.get_variable(name=\"scalar2\", initializer=tf.constant(2))\n",
    "m = tf.get_variable(name=\"matrix\", initializer=tf.constant([\n",
    "    [0, 1],\n",
    "    [2, 3]\n",
    "]))\n",
    "M = tf.get_variable(name=\"big_matrix\",\n",
    "                   shape=(784, 10),\n",
    "                    initializer= tf.truncated_normal_initializer(\n",
    "                    mean=0.0, stddev=0.01))\n",
    "\n",
    "# 변수는 항상 초기화 연산을 먼저 수행해야 한다\n",
    "init_op = tf.global_variables_initializer() # 초기화\n",
    "\n",
    "with tf.Session() as sess:\n",
    "    tf.summary.FileWriter(\"d:/log_dir\", graph=sess.graph)\n",
    "    # 변수 초기화\n",
    "    sess.run(init_op)\n",
    "    print(\"scala 변수:\", sess.run(s1), s1)\n",
    "    print(\"scala 변수2:\", sess.run(s2), s2)\n",
    "    print(\"matrix 변수:\", sess.run(m), m)\n",
    "    print(\"분포를 이용한 matrix 변수의 초기화:\", sess.run(M), M)"
   ]
  },
  {
   "cell_type": "code",
   "execution_count": 6,
   "metadata": {},
   "outputs": [
    {
     "name": "stdout",
     "output_type": "stream",
     "text": [
      "Add with Placeholder: [6. 7. 8.]\n"
     ]
    }
   ],
   "source": [
    "# Placeholder\n",
    "# 값 혹은 사이즈 미정, 실행되는 시점에서 값이 결정되는 데이터 타입\n",
    "tf.reset_default_graph()\n",
    "\n",
    "a = tf.placeholder(tf.float32, shape=[5]) # 1차원 텐서\n",
    "b = tf.placeholder(tf.float32) # shape가 지정되지 않은 이름 없는 텐서\n",
    "x = tf.placeholder(tf.float32, shape=[None, 784], name=\"input\")\n",
    "# 열의 개수는 784개 행의개수가 미정인 이름이 input인 2차원 텐서\n",
    "y = tf.placeholder(tf.float32, shape=[None, 10], name=\"label\")\n",
    "# 열의 개수는 10개 행의 개수가 미정인 이름이 label인 2차원 텐서\n",
    "\n",
    "a = tf.constant([5, 5, 5], tf.float32, name=\"A\") # 3열의 1차원 상수 텐서\n",
    "b = tf.placeholder(tf.float32, shape=[3], name=\"B\") # 3열의 1차원 플레이스홀더\n",
    "c = tf.add(a, b, name=\"Add\")\n",
    "with tf.Session() as sess:\n",
    "    # placeholder에 실행 시점에서 데이터를 전달하고자 한다면 사전을 만들어 전달할 수 있다\n",
    "    d = {b: [1, 2, 3]}\n",
    "    # placeholder에 사전을 전달해서 수행\n",
    "    print(\"Add with Placeholder:\", sess.run(c, feed_dict=d))\n",
    "    # feed_dict인자로 사전을 전달"
   ]
  },
  {
   "cell_type": "code",
   "execution_count": 7,
   "metadata": {},
   "outputs": [],
   "source": [
    "# 책 공부"
   ]
  },
  {
   "cell_type": "code",
   "execution_count": 17,
   "metadata": {},
   "outputs": [
    {
     "name": "stdout",
     "output_type": "stream",
     "text": [
      "Tensor(\"Const_9:0\", shape=(), dtype=string)\n",
      "Tensor(\"Add_8:0\", shape=(), dtype=int32)\n",
      "b'Hello, Tensorflow'\n",
      "30\n"
     ]
    }
   ],
   "source": [
    "import tensorflow as tf\n",
    "hello = tf.constant(\"Hello, Tensorflow\")\n",
    "print(hello)\n",
    "\n",
    "a = tf.constant(10, name=\"studya\")\n",
    "b = tf.constant(20, name=\"studyb\")\n",
    "c = tf.add(a, b)\n",
    "print(c)\n",
    "\n",
    "with tf.Session() as sess:\n",
    "    print(sess.run(hello))\n",
    "    print(sess.run(c))"
   ]
  }
 ],
 "metadata": {
  "kernelspec": {
   "display_name": "Python 3",
   "language": "python",
   "name": "python3"
  },
  "language_info": {
   "codemirror_mode": {
    "name": "ipython",
    "version": 3
   },
   "file_extension": ".py",
   "mimetype": "text/x-python",
   "name": "python",
   "nbconvert_exporter": "python",
   "pygments_lexer": "ipython3",
   "version": "3.7.4"
  }
 },
 "nbformat": 4,
 "nbformat_minor": 2
}
