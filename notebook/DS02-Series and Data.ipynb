{
 "cells": [
  {
   "cell_type": "code",
   "execution_count": 1,
   "metadata": {},
   "outputs": [
    {
     "data": {
      "text/plain": [
       "0    홍길동\n",
       "1     28\n",
       "dtype: object"
      ]
     },
     "execution_count": 1,
     "metadata": {},
     "output_type": "execute_result"
    }
   ],
   "source": [
    "import pandas as pd\n",
    "\n",
    "# Series 생성시 데이터는 list로 만든다\n",
    "s = pd.Series([\"홍길동\", 28])\n",
    "s"
   ]
  },
  {
   "cell_type": "code",
   "execution_count": 2,
   "metadata": {},
   "outputs": [
    {
     "data": {
      "text/plain": [
       "Name    홍길동\n",
       "Age      28\n",
       "dtype: object"
      ]
     },
     "execution_count": 2,
     "metadata": {},
     "output_type": "execute_result"
    }
   ],
   "source": [
    "# 인덱스를 가진 Series 만들기\n",
    "s2 = pd.Series(['홍길동', 28], index = [\"Name\", \"Age\"])\n",
    "s2"
   ]
  },
  {
   "cell_type": "code",
   "execution_count": 3,
   "metadata": {},
   "outputs": [
    {
     "name": "stdout",
     "output_type": "stream",
     "text": [
      "index of s: RangeIndex(start=0, stop=2, step=1)\n"
     ]
    },
    {
     "data": {
      "text/plain": [
       "이름    홍길동\n",
       "나이     28\n",
       "dtype: object"
      ]
     },
     "execution_count": 3,
     "metadata": {},
     "output_type": "execute_result"
    }
   ],
   "source": [
    "# 이미 있는 Series에 ㄴ중에 index부여시\n",
    "# index속성에 접근(list)\n",
    "print(\"index of s:\", s.index)\n",
    "# index의 변경\n",
    "s.index = [\"이름\", \"나이\"]\n",
    "s"
   ]
  },
  {
   "cell_type": "code",
   "execution_count": 4,
   "metadata": {},
   "outputs": [
    {
     "name": "stdout",
     "output_type": "stream",
     "text": [
      "0      0\n",
      "1      2\n",
      "2      4\n",
      "3      6\n",
      "4      8\n",
      "5     10\n",
      "6     12\n",
      "7     14\n",
      "8     16\n",
      "9     18\n",
      "10    20\n",
      "11    22\n",
      "12    24\n",
      "13    26\n",
      "14    28\n",
      "15    30\n",
      "16    32\n",
      "17    34\n",
      "18    36\n",
      "19    38\n",
      "20    40\n",
      "21    42\n",
      "22    44\n",
      "23    46\n",
      "24    48\n",
      "25    50\n",
      "26    52\n",
      "27    54\n",
      "28    56\n",
      "29    58\n",
      "30    60\n",
      "31    62\n",
      "32    64\n",
      "33    66\n",
      "34    68\n",
      "35    70\n",
      "36    72\n",
      "37    74\n",
      "38    76\n",
      "39    78\n",
      "40    80\n",
      "41    82\n",
      "42    84\n",
      "43    86\n",
      "44    88\n",
      "45    90\n",
      "46    92\n",
      "47    94\n",
      "48    96\n",
      "49    98\n",
      "dtype: int64\n"
     ]
    }
   ],
   "source": [
    "# 범위를 이용한 Series 생성\n",
    "s3 = pd.Series(range(0, 100, 2))\n",
    "print(s3)"
   ]
  },
  {
   "cell_type": "code",
   "execution_count": 5,
   "metadata": {},
   "outputs": [
    {
     "data": {
      "text/plain": [
       "count      5.000000\n",
       "mean      82.000000\n",
       "std       13.509256\n",
       "min       65.000000\n",
       "25%       75.000000\n",
       "50%       80.000000\n",
       "75%       90.000000\n",
       "max      100.000000\n",
       "dtype: float64"
      ]
     },
     "execution_count": 5,
     "metadata": {},
     "output_type": "execute_result"
    }
   ],
   "source": [
    "# Series는 단일 데이터 타입을 다루는 객체\n",
    "# 문자열이 셖여 있을 경우 모두 object로 변환\n",
    "# 데이터가 산술연산 가능한 데이터 타입이면 기초 통계 메서드를 사용할 수 있다\n",
    "kor = [80, 75, 90, 100, 65] # 데이터 리스트\n",
    "kor_s = pd.Series(kor) # 시리즈 생성\n",
    "# 기초 통계량의 확인: describe\n",
    "kor_s.describe()"
   ]
  },
  {
   "cell_type": "code",
   "execution_count": 6,
   "metadata": {},
   "outputs": [
    {
     "name": "stdout",
     "output_type": "stream",
     "text": [
      "min, max 65 100\n",
      "mean, median 82.0 80.0\n",
      "표준편차: 13.509256086106296\n"
     ]
    },
    {
     "data": {
      "text/plain": [
       "0    False\n",
       "1    False\n",
       "2    False\n",
       "3     True\n",
       "4    False\n",
       "dtype: bool"
      ]
     },
     "execution_count": 6,
     "metadata": {},
     "output_type": "execute_result"
    }
   ],
   "source": [
    "# 통계함수\n",
    "print(\"min, max\", kor_s.min(), kor_s.max()) # 최대 최소값\n",
    "print(\"mean, median\", kor_s.mean(), kor_s.median()) # 산술평균,  중앙값\n",
    "print(\"표준편차:\", kor_s.std())\n",
    "# 포함 여부 확인\n",
    "kor_s.isin([100])"
   ]
  },
  {
   "cell_type": "code",
   "execution_count": 7,
   "metadata": {},
   "outputs": [
    {
     "name": "stdout",
     "output_type": "stream",
     "text": [
      "val: 0     1\n",
      "1     5\n",
      "2     8\n",
      "3     4\n",
      "4     6\n",
      "5     1\n",
      "6    10\n",
      "dtype: int64\n",
      "0     2\n",
      "1    10\n",
      "2    16\n",
      "3     8\n",
      "4    12\n",
      "5     2\n",
      "6    20\n",
      "dtype: int64\n",
      "0     2\n",
      "1     7\n",
      "2    11\n",
      "3     8\n",
      "4    11\n",
      "5     7\n",
      "6    17\n",
      "dtype: int64\n"
     ]
    }
   ],
   "source": [
    "# 시리즈의 연산\n",
    "# 시리즈: 1차원 데이터\n",
    "val = pd.Series([1, 5, 8, 4, 6, 1, 10])\n",
    "print(\"val:\", val)\n",
    "# Series와 Scalar의 데이터 연산\n",
    "print(val * 2) # 각 인덱스 내으 값과 개별 연산\n",
    "# Broadcasting\n",
    "\n",
    "# Series와 Series의 연산\n",
    "# 같은 인덱스에 위치한 각 값들을 연산\n",
    "val2 = pd.Series([1, 2, 3, 4, 5, 6, 7])\n",
    "print(val + val2)"
   ]
  },
  {
   "cell_type": "code",
   "execution_count": 8,
   "metadata": {},
   "outputs": [
    {
     "data": {
      "text/html": [
       "<div>\n",
       "<style scoped>\n",
       "    .dataframe tbody tr th:only-of-type {\n",
       "        vertical-align: middle;\n",
       "    }\n",
       "\n",
       "    .dataframe tbody tr th {\n",
       "        vertical-align: top;\n",
       "    }\n",
       "\n",
       "    .dataframe thead th {\n",
       "        text-align: right;\n",
       "    }\n",
       "</style>\n",
       "<table border=\"1\" class=\"dataframe\">\n",
       "  <thead>\n",
       "    <tr style=\"text-align: right;\">\n",
       "      <th></th>\n",
       "      <th>KOR</th>\n",
       "      <th>ENG</th>\n",
       "      <th>MATH</th>\n",
       "    </tr>\n",
       "  </thead>\n",
       "  <tbody>\n",
       "    <tr>\n",
       "      <td>홍길동</td>\n",
       "      <td>80</td>\n",
       "      <td>90</td>\n",
       "      <td>80</td>\n",
       "    </tr>\n",
       "    <tr>\n",
       "      <td>김철수</td>\n",
       "      <td>90</td>\n",
       "      <td>80</td>\n",
       "      <td>90</td>\n",
       "    </tr>\n",
       "    <tr>\n",
       "      <td>이영희</td>\n",
       "      <td>75</td>\n",
       "      <td>70</td>\n",
       "      <td>85</td>\n",
       "    </tr>\n",
       "  </tbody>\n",
       "</table>\n",
       "</div>"
      ],
      "text/plain": [
       "     KOR  ENG  MATH\n",
       "홍길동   80   90    80\n",
       "김철수   90   80    90\n",
       "이영희   75   70    85"
      ]
     },
     "execution_count": 8,
     "metadata": {},
     "output_type": "execute_result"
    }
   ],
   "source": [
    "# 데이터프레임의 생성\n",
    "# 변수명을 키로 가진 사전을 DataFrame으로 전달\n",
    "scores = pd.DataFrame({\n",
    "    \"KOR\": [80, 90, 75],\n",
    "    \"ENG\": [90, 80, 70],\n",
    "    \"MATH\": [80, 90, 85]},\n",
    "    index = [\"홍길동\", \"김철수\", \"이영희\"]\n",
    ")\n",
    "scores"
   ]
  },
  {
   "cell_type": "code",
   "execution_count": 9,
   "metadata": {},
   "outputs": [
    {
     "name": "stdout",
     "output_type": "stream",
     "text": [
      "KOR     90\n",
      "ENG     80\n",
      "MATH    90\n",
      "Name: 김철수, dtype: int64\n",
      "90\n",
      "<class 'pandas.core.series.Series'>\n"
     ]
    }
   ],
   "source": [
    "# loc를 이용한 관측치의 확인\n",
    "# 김철수의 점수를 추출\n",
    "print(scores.loc['김철수'])\n",
    "# 김철수의 국어점수 추출\n",
    "print(scores.loc['김철수', 'KOR'])\n",
    "print(type(scores.loc['김철수']))"
   ]
  },
  {
   "cell_type": "code",
   "execution_count": 10,
   "metadata": {},
   "outputs": [
    {
     "data": {
      "text/html": [
       "<div>\n",
       "<style scoped>\n",
       "    .dataframe tbody tr th:only-of-type {\n",
       "        vertical-align: middle;\n",
       "    }\n",
       "\n",
       "    .dataframe tbody tr th {\n",
       "        vertical-align: top;\n",
       "    }\n",
       "\n",
       "    .dataframe thead th {\n",
       "        text-align: right;\n",
       "    }\n",
       "</style>\n",
       "<table border=\"1\" class=\"dataframe\">\n",
       "  <thead>\n",
       "    <tr style=\"text-align: right;\">\n",
       "      <th></th>\n",
       "      <th>KOR</th>\n",
       "      <th>ENG</th>\n",
       "      <th>MATH</th>\n",
       "      <th>TOTAL</th>\n",
       "      <th>AVERAGE</th>\n",
       "    </tr>\n",
       "  </thead>\n",
       "  <tbody>\n",
       "    <tr>\n",
       "      <td>홍길동</td>\n",
       "      <td>80</td>\n",
       "      <td>90</td>\n",
       "      <td>80</td>\n",
       "      <td>250</td>\n",
       "      <td>83.333333</td>\n",
       "    </tr>\n",
       "    <tr>\n",
       "      <td>김철수</td>\n",
       "      <td>90</td>\n",
       "      <td>80</td>\n",
       "      <td>90</td>\n",
       "      <td>260</td>\n",
       "      <td>86.666667</td>\n",
       "    </tr>\n",
       "    <tr>\n",
       "      <td>이영희</td>\n",
       "      <td>75</td>\n",
       "      <td>70</td>\n",
       "      <td>85</td>\n",
       "      <td>230</td>\n",
       "      <td>76.666667</td>\n",
       "    </tr>\n",
       "  </tbody>\n",
       "</table>\n",
       "</div>"
      ],
      "text/plain": [
       "     KOR  ENG  MATH  TOTAL    AVERAGE\n",
       "홍길동   80   90    80    250  83.333333\n",
       "김철수   90   80    90    260  86.666667\n",
       "이영희   75   70    85    230  76.666667"
      ]
     },
     "execution_count": 10,
     "metadata": {},
     "output_type": "execute_result"
    }
   ],
   "source": [
    "# 이미 있는 변수를 연산하여 파생변수를 만들 수 있다\n",
    "scores['TOTAL'] = scores['KOR'] + scores['ENG'] + scores['MATH']\n",
    "# 평균점수 변수 파생\n",
    "scores['AVERAGE'] = scores['TOTAL'] / 3\n",
    "scores.head()"
   ]
  },
  {
   "cell_type": "code",
   "execution_count": 11,
   "metadata": {},
   "outputs": [
    {
     "data": {
      "text/html": [
       "<div>\n",
       "<style scoped>\n",
       "    .dataframe tbody tr th:only-of-type {\n",
       "        vertical-align: middle;\n",
       "    }\n",
       "\n",
       "    .dataframe tbody tr th {\n",
       "        vertical-align: top;\n",
       "    }\n",
       "\n",
       "    .dataframe thead th {\n",
       "        text-align: right;\n",
       "    }\n",
       "</style>\n",
       "<table border=\"1\" class=\"dataframe\">\n",
       "  <thead>\n",
       "    <tr style=\"text-align: right;\">\n",
       "      <th></th>\n",
       "      <th>KOR</th>\n",
       "      <th>ENG</th>\n",
       "      <th>MATH</th>\n",
       "      <th>TOTAL</th>\n",
       "      <th>AVERAGE</th>\n",
       "    </tr>\n",
       "  </thead>\n",
       "  <tbody>\n",
       "    <tr>\n",
       "      <td>이영희</td>\n",
       "      <td>75</td>\n",
       "      <td>70</td>\n",
       "      <td>85</td>\n",
       "      <td>230</td>\n",
       "      <td>76.666667</td>\n",
       "    </tr>\n",
       "  </tbody>\n",
       "</table>\n",
       "</div>"
      ],
      "text/plain": [
       "     KOR  ENG  MATH  TOTAL    AVERAGE\n",
       "이영희   75   70    85    230  76.666667"
      ]
     },
     "execution_count": 11,
     "metadata": {},
     "output_type": "execute_result"
    }
   ],
   "source": [
    "# BOOLEAN 추출\n",
    "# loc에 논리값 리스트 전달\n",
    "scores[[False, False, True]]"
   ]
  },
  {
   "cell_type": "code",
   "execution_count": 12,
   "metadata": {},
   "outputs": [
    {
     "name": "stdout",
     "output_type": "stream",
     "text": [
      "홍길동     True\n",
      "김철수     True\n",
      "이영희    False\n",
      "Name: AVERAGE, dtype: bool\n"
     ]
    },
    {
     "data": {
      "text/html": [
       "<div>\n",
       "<style scoped>\n",
       "    .dataframe tbody tr th:only-of-type {\n",
       "        vertical-align: middle;\n",
       "    }\n",
       "\n",
       "    .dataframe tbody tr th {\n",
       "        vertical-align: top;\n",
       "    }\n",
       "\n",
       "    .dataframe thead th {\n",
       "        text-align: right;\n",
       "    }\n",
       "</style>\n",
       "<table border=\"1\" class=\"dataframe\">\n",
       "  <thead>\n",
       "    <tr style=\"text-align: right;\">\n",
       "      <th></th>\n",
       "      <th>KOR</th>\n",
       "      <th>ENG</th>\n",
       "      <th>MATH</th>\n",
       "      <th>TOTAL</th>\n",
       "      <th>AVERAGE</th>\n",
       "    </tr>\n",
       "  </thead>\n",
       "  <tbody>\n",
       "    <tr>\n",
       "      <td>홍길동</td>\n",
       "      <td>80</td>\n",
       "      <td>90</td>\n",
       "      <td>80</td>\n",
       "      <td>250</td>\n",
       "      <td>83.333333</td>\n",
       "    </tr>\n",
       "    <tr>\n",
       "      <td>김철수</td>\n",
       "      <td>90</td>\n",
       "      <td>80</td>\n",
       "      <td>90</td>\n",
       "      <td>260</td>\n",
       "      <td>86.666667</td>\n",
       "    </tr>\n",
       "  </tbody>\n",
       "</table>\n",
       "</div>"
      ],
      "text/plain": [
       "     KOR  ENG  MATH  TOTAL    AVERAGE\n",
       "홍길동   80   90    80    250  83.333333\n",
       "김철수   90   80    90    260  86.666667"
      ]
     },
     "execution_count": 12,
     "metadata": {},
     "output_type": "execute_result"
    }
   ],
   "source": [
    "# scores의 평균이 80이상인 관측치의 불린추출\n",
    "filter = scores['AVERAGE'] >= 80\n",
    "print(filter)\n",
    "# 획득한 불린 리스트를 인덱스로 부여\n",
    "filtered_scores = scores[filter]\n",
    "filtered_scores"
   ]
  },
  {
   "cell_type": "code",
   "execution_count": 13,
   "metadata": {},
   "outputs": [
    {
     "data": {
      "text/html": [
       "<div>\n",
       "<style scoped>\n",
       "    .dataframe tbody tr th:only-of-type {\n",
       "        vertical-align: middle;\n",
       "    }\n",
       "\n",
       "    .dataframe tbody tr th {\n",
       "        vertical-align: top;\n",
       "    }\n",
       "\n",
       "    .dataframe thead th {\n",
       "        text-align: right;\n",
       "    }\n",
       "</style>\n",
       "<table border=\"1\" class=\"dataframe\">\n",
       "  <thead>\n",
       "    <tr style=\"text-align: right;\">\n",
       "      <th></th>\n",
       "      <th>홍길동\\t175.8\\t73.2</th>\n",
       "    </tr>\n",
       "  </thead>\n",
       "  <tbody>\n",
       "    <tr>\n",
       "      <td>0</td>\n",
       "      <td>전우치\\t170.2\\t66.3</td>\n",
       "    </tr>\n",
       "    <tr>\n",
       "      <td>1</td>\n",
       "      <td>임꺽정\\t186.7\\t88.2</td>\n",
       "    </tr>\n",
       "    <tr>\n",
       "      <td>2</td>\n",
       "      <td>장길산\\t188.3\\t90</td>\n",
       "    </tr>\n",
       "  </tbody>\n",
       "</table>\n",
       "</div>"
      ],
      "text/plain": [
       "   홍길동\\t175.8\\t73.2\n",
       "0  전우치\\t170.2\\t66.3\n",
       "1  임꺽정\\t186.7\\t88.2\n",
       "2    장길산\\t188.3\\t90"
      ]
     },
     "execution_count": 13,
     "metadata": {},
     "output_type": "execute_result"
    }
   ],
   "source": [
    "# 파일을 불러와서 DataFrame으로 변환\n",
    "# read_ 계열의 메서드: 다앙한 파일 타입을 DataFrame으로 불러들일 수 있다\n",
    "thieves_df = pd.read_csv(\"./data/thieves.txt\")\n",
    "thieves_df"
   ]
  },
  {
   "cell_type": "code",
   "execution_count": 14,
   "metadata": {},
   "outputs": [
    {
     "data": {
      "text/html": [
       "<div>\n",
       "<style scoped>\n",
       "    .dataframe tbody tr th:only-of-type {\n",
       "        vertical-align: middle;\n",
       "    }\n",
       "\n",
       "    .dataframe tbody tr th {\n",
       "        vertical-align: top;\n",
       "    }\n",
       "\n",
       "    .dataframe thead th {\n",
       "        text-align: right;\n",
       "    }\n",
       "</style>\n",
       "<table border=\"1\" class=\"dataframe\">\n",
       "  <thead>\n",
       "    <tr style=\"text-align: right;\">\n",
       "      <th></th>\n",
       "      <th>홍길동</th>\n",
       "      <th>175.8</th>\n",
       "      <th>73.2</th>\n",
       "    </tr>\n",
       "  </thead>\n",
       "  <tbody>\n",
       "    <tr>\n",
       "      <td>0</td>\n",
       "      <td>전우치</td>\n",
       "      <td>170.2</td>\n",
       "      <td>66.3</td>\n",
       "    </tr>\n",
       "    <tr>\n",
       "      <td>1</td>\n",
       "      <td>임꺽정</td>\n",
       "      <td>186.7</td>\n",
       "      <td>88.2</td>\n",
       "    </tr>\n",
       "    <tr>\n",
       "      <td>2</td>\n",
       "      <td>장길산</td>\n",
       "      <td>188.3</td>\n",
       "      <td>90.0</td>\n",
       "    </tr>\n",
       "  </tbody>\n",
       "</table>\n",
       "</div>"
      ],
      "text/plain": [
       "   홍길동  175.8  73.2\n",
       "0  전우치  170.2  66.3\n",
       "1  임꺽정  186.7  88.2\n",
       "2  장길산  188.3  90.0"
      ]
     },
     "execution_count": 14,
     "metadata": {},
     "output_type": "execute_result"
    }
   ],
   "source": [
    "thieves_df = pd.read_csv(\"./data/thieves.txt\",sep=\"\\t\") # 구분자는 탭\n",
    "thieves_df"
   ]
  },
  {
   "cell_type": "code",
   "execution_count": 15,
   "metadata": {},
   "outputs": [
    {
     "data": {
      "text/html": [
       "<div>\n",
       "<style scoped>\n",
       "    .dataframe tbody tr th:only-of-type {\n",
       "        vertical-align: middle;\n",
       "    }\n",
       "\n",
       "    .dataframe tbody tr th {\n",
       "        vertical-align: top;\n",
       "    }\n",
       "\n",
       "    .dataframe thead th {\n",
       "        text-align: right;\n",
       "    }\n",
       "</style>\n",
       "<table border=\"1\" class=\"dataframe\">\n",
       "  <thead>\n",
       "    <tr style=\"text-align: right;\">\n",
       "      <th></th>\n",
       "      <th>0</th>\n",
       "      <th>1</th>\n",
       "      <th>2</th>\n",
       "    </tr>\n",
       "  </thead>\n",
       "  <tbody>\n",
       "    <tr>\n",
       "      <td>0</td>\n",
       "      <td>홍길동</td>\n",
       "      <td>175.8</td>\n",
       "      <td>73.2</td>\n",
       "    </tr>\n",
       "    <tr>\n",
       "      <td>1</td>\n",
       "      <td>전우치</td>\n",
       "      <td>170.2</td>\n",
       "      <td>66.3</td>\n",
       "    </tr>\n",
       "    <tr>\n",
       "      <td>2</td>\n",
       "      <td>임꺽정</td>\n",
       "      <td>186.7</td>\n",
       "      <td>88.2</td>\n",
       "    </tr>\n",
       "    <tr>\n",
       "      <td>3</td>\n",
       "      <td>장길산</td>\n",
       "      <td>188.3</td>\n",
       "      <td>90.0</td>\n",
       "    </tr>\n",
       "  </tbody>\n",
       "</table>\n",
       "</div>"
      ],
      "text/plain": [
       "     0      1     2\n",
       "0  홍길동  175.8  73.2\n",
       "1  전우치  170.2  66.3\n",
       "2  임꺽정  186.7  88.2\n",
       "3  장길산  188.3  90.0"
      ]
     },
     "execution_count": 15,
     "metadata": {},
     "output_type": "execute_result"
    }
   ],
   "source": [
    "# read_csv는 기본적으로 첫 행을 컬럼 헤더일 것이라고 추측\n",
    "# 첫 행이 헤더가 아닌 데이터임을 알려주기 위해 \n",
    "# header = False\n",
    "thieves_df = pd.read_csv(\"./data/thieves.txt\",sep=\"\\t\", header=None) # 구분자는 탭\n",
    "thieves_df"
   ]
  },
  {
   "cell_type": "code",
   "execution_count": 16,
   "metadata": {},
   "outputs": [
    {
     "data": {
      "text/html": [
       "<div>\n",
       "<style scoped>\n",
       "    .dataframe tbody tr th:only-of-type {\n",
       "        vertical-align: middle;\n",
       "    }\n",
       "\n",
       "    .dataframe tbody tr th {\n",
       "        vertical-align: top;\n",
       "    }\n",
       "\n",
       "    .dataframe thead th {\n",
       "        text-align: right;\n",
       "    }\n",
       "</style>\n",
       "<table border=\"1\" class=\"dataframe\">\n",
       "  <thead>\n",
       "    <tr style=\"text-align: right;\">\n",
       "      <th></th>\n",
       "      <th>1</th>\n",
       "      <th>2</th>\n",
       "    </tr>\n",
       "    <tr>\n",
       "      <th>0</th>\n",
       "      <th></th>\n",
       "      <th></th>\n",
       "    </tr>\n",
       "  </thead>\n",
       "  <tbody>\n",
       "    <tr>\n",
       "      <td>홍길동</td>\n",
       "      <td>175.8</td>\n",
       "      <td>73.2</td>\n",
       "    </tr>\n",
       "    <tr>\n",
       "      <td>전우치</td>\n",
       "      <td>170.2</td>\n",
       "      <td>66.3</td>\n",
       "    </tr>\n",
       "    <tr>\n",
       "      <td>임꺽정</td>\n",
       "      <td>186.7</td>\n",
       "      <td>88.2</td>\n",
       "    </tr>\n",
       "    <tr>\n",
       "      <td>장길산</td>\n",
       "      <td>188.3</td>\n",
       "      <td>90.0</td>\n",
       "    </tr>\n",
       "  </tbody>\n",
       "</table>\n",
       "</div>"
      ],
      "text/plain": [
       "         1     2\n",
       "0               \n",
       "홍길동  175.8  73.2\n",
       "전우치  170.2  66.3\n",
       "임꺽정  186.7  88.2\n",
       "장길산  188.3  90.0"
      ]
     },
     "execution_count": 16,
     "metadata": {},
     "output_type": "execute_result"
    }
   ],
   "source": [
    "# read시 특정 컬럼을 인덱스로 사용하고자 하면 index_col인자값으로 컬럼 인덱스를 주면됨\n",
    "thieves_df = pd.read_csv(\"./data/thieves.txt\",sep=\"\\t\", header=None, index_col=0) # 구분자는 탭\n",
    "thieves_df"
   ]
  },
  {
   "cell_type": "code",
   "execution_count": 17,
   "metadata": {},
   "outputs": [
    {
     "name": "stdout",
     "output_type": "stream",
     "text": [
      "컬럼 이름의 목록: Int64Index([1, 2], dtype='int64')\n"
     ]
    },
    {
     "data": {
      "text/html": [
       "<div>\n",
       "<style scoped>\n",
       "    .dataframe tbody tr th:only-of-type {\n",
       "        vertical-align: middle;\n",
       "    }\n",
       "\n",
       "    .dataframe tbody tr th {\n",
       "        vertical-align: top;\n",
       "    }\n",
       "\n",
       "    .dataframe thead th {\n",
       "        text-align: right;\n",
       "    }\n",
       "</style>\n",
       "<table border=\"1\" class=\"dataframe\">\n",
       "  <thead>\n",
       "    <tr style=\"text-align: right;\">\n",
       "      <th></th>\n",
       "      <th>Height</th>\n",
       "      <th>Weight</th>\n",
       "    </tr>\n",
       "    <tr>\n",
       "      <th>Name</th>\n",
       "      <th></th>\n",
       "      <th></th>\n",
       "    </tr>\n",
       "  </thead>\n",
       "  <tbody>\n",
       "    <tr>\n",
       "      <td>홍길동</td>\n",
       "      <td>175.8</td>\n",
       "      <td>73.2</td>\n",
       "    </tr>\n",
       "    <tr>\n",
       "      <td>전우치</td>\n",
       "      <td>170.2</td>\n",
       "      <td>66.3</td>\n",
       "    </tr>\n",
       "    <tr>\n",
       "      <td>임꺽정</td>\n",
       "      <td>186.7</td>\n",
       "      <td>88.2</td>\n",
       "    </tr>\n",
       "    <tr>\n",
       "      <td>장길산</td>\n",
       "      <td>188.3</td>\n",
       "      <td>90.0</td>\n",
       "    </tr>\n",
       "  </tbody>\n",
       "</table>\n",
       "</div>"
      ],
      "text/plain": [
       "      Height  Weight\n",
       "Name                \n",
       "홍길동    175.8    73.2\n",
       "전우치    170.2    66.3\n",
       "임꺽정    186.7    88.2\n",
       "장길산    188.3    90.0"
      ]
     },
     "execution_count": 17,
     "metadata": {},
     "output_type": "execute_result"
    }
   ],
   "source": [
    "# 컬럼 헤더를 변경하고 인덱스 이름을 변경하고 다른 이름으로 저장 to_\n",
    "print(\"컬럼 이름의 목록:\", thieves_df.columns)\n",
    "thieves_df.columns = [\"Height\", \"Weight\"] # 컬럼명의 변경\n",
    "thieves_df.index.name = \"Name\" # 인덱스 이름의 변경\n",
    "thieves_df"
   ]
  },
  {
   "cell_type": "code",
   "execution_count": 18,
   "metadata": {},
   "outputs": [],
   "source": [
    "# 정제된 데이터프레임을 csv 저장\n",
    "#thieves_df.to_csv(\"./data/thieves.csv\")\n",
    "# 저장된 파일의 인코딩이 깨질 경우\n",
    "# encoding 인자로 문자코드를 부여\n",
    "thieves_df.to_csv(\"./data/thieves.csv\", encoding=\"utf-8\")"
   ]
  },
  {
   "cell_type": "code",
   "execution_count": 19,
   "metadata": {},
   "outputs": [
    {
     "name": "stdout",
     "output_type": "stream",
     "text": [
      "점수: 0     90.0\n",
      "1     80.0\n",
      "2    120.0\n",
      "3      NaN\n",
      "4     95.0\n",
      "5     80.0\n",
      "6    -10.0\n",
      "dtype: float64\n"
     ]
    }
   ],
   "source": [
    "# 결측치\n",
    "# 측정되지 않았거나 데이터 처리과정에서 누락된 값\n",
    "# 파이썬엣는 numpy 모듈내의 nan, NaN, NAN등으로 표기\n",
    "from numpy import nan, NaN, NAN\n",
    "\n",
    "exam_scores = pd.Series(\n",
    "[90, 80, 120, nan, 95, 80, -10])\n",
    "# 정상 범주 0~100\n",
    "# 이상치 120, -10, 결측치 1개\n",
    "print(\"점수:\", exam_scores)"
   ]
  },
  {
   "cell_type": "code",
   "execution_count": 20,
   "metadata": {},
   "outputs": [
    {
     "name": "stdout",
     "output_type": "stream",
     "text": [
      "총 레코드 수 7, 결측치  수 1\n"
     ]
    }
   ],
   "source": [
    "# 결측치 확인 numpy으 isnull로 확인\n",
    "# 결측치가 아닌 것 notnull로 확인\n",
    "import numpy as np\n",
    "# 결측치 확인\n",
    "#print(pd.isnull(exam_scores))\n",
    "\n",
    "# 결측 빈도의 확인\n",
    "# 총 레코드의 수\n",
    "num_rows = exam_scores.shape[0] # 행 수\n",
    "# 결측치의 수\n",
    "# 통계 메서드는 결측치는 제외하고 계산\n",
    "num_missing = num_rows - exam_scores.count()\n",
    "print(\"총 레코드 수 {}, 결측치  수 {}\".format(num_rows, num_missing))"
   ]
  },
  {
   "cell_type": "code",
   "execution_count": 21,
   "metadata": {},
   "outputs": [
    {
     "name": "stdout",
     "output_type": "stream",
     "text": [
      "0    False\n",
      "1    False\n",
      "2     True\n",
      "3     True\n",
      "4    False\n",
      "5    False\n",
      "6     True\n",
      "dtype: bool\n"
     ]
    },
    {
     "data": {
      "text/plain": [
       "0    90.0\n",
       "1    80.0\n",
       "2     NaN\n",
       "3     NaN\n",
       "4    95.0\n",
       "5    80.0\n",
       "6     NaN\n",
       "dtype: float64"
      ]
     },
     "execution_count": 21,
     "metadata": {},
     "output_type": "execute_result"
    }
   ],
   "source": [
    "# 이상치\n",
    "# exam_scores가 0 ~ 100 사이에 있는지 확인\n",
    "print(~exam_scores.isin(range(0, 101))) # 정상범주 벗어난 것\n",
    "\n",
    "# 정상 범주 밖의 것을 결측치로 대체\n",
    "exam_scores[~exam_scores.isin(range(0, 101))] = nan # 결측치로 대체\n",
    "exam_scores"
   ]
  },
  {
   "cell_type": "code",
   "execution_count": 22,
   "metadata": {},
   "outputs": [
    {
     "name": "stdout",
     "output_type": "stream",
     "text": [
      "결측치 제외 데이터 셋의 평균: 86.25\n"
     ]
    }
   ],
   "source": [
    "# 이상치를 결측치로 대체한 데이터 셋의 통계\n",
    "exam_scores.describe()\n",
    "mean1 = exam_scores.mean() # 결측치를 제외한 데이터 셋의 평균\n",
    "print(\"결측치 제외 데이터 셋의 평균:\", mean1)"
   ]
  },
  {
   "cell_type": "code",
   "execution_count": 23,
   "metadata": {},
   "outputs": [
    {
     "name": "stdout",
     "output_type": "stream",
     "text": [
      "중앙값: 85.0\n",
      "이상치를 대푯값으로 대체한 데이터 셋 평균: 85.71428571428571\n"
     ]
    }
   ],
   "source": [
    "# 결측치가 많으면 통계를 왜곡할 수 있으므로\n",
    "# 결측치를 다른 대푯값으로 대체하는 것이 일반적\n",
    "# 결측치를 중앙값으로 대체\n",
    "med_score = exam_scores[exam_scores.notnull()].median()\n",
    "print(\"중앙값:\", med_score)\n",
    "exam_scores[exam_scores.isnull()] = med_score\n",
    "print(\"이상치를 대푯값으로 대체한 데이터 셋 평균:\", exam_scores.mean())"
   ]
  },
  {
   "cell_type": "code",
   "execution_count": null,
   "metadata": {},
   "outputs": [],
   "source": []
  }
 ],
 "metadata": {
  "kernelspec": {
   "display_name": "Python 3",
   "language": "python",
   "name": "python3"
  },
  "language_info": {
   "codemirror_mode": {
    "name": "ipython",
    "version": 3
   },
   "file_extension": ".py",
   "mimetype": "text/x-python",
   "name": "python",
   "nbconvert_exporter": "python",
   "pygments_lexer": "ipython3",
   "version": "3.7.4"
  }
 },
 "nbformat": 4,
 "nbformat_minor": 2
}
